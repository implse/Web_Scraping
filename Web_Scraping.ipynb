{
 "cells": [
  {
   "cell_type": "markdown",
   "id": "81c9617a",
   "metadata": {},
   "source": [
    "# Web Scraping: The 100 Jazz Albums That Shook The World"
   ]
  },
  {
   "cell_type": "markdown",
   "id": "0f67b876",
   "metadata": {},
   "source": [
    "![title](image/florencia-viadana-F7W1QP62psQ-unsplash.jpg)"
   ]
  },
  {
   "cell_type": "markdown",
   "id": "40864498",
   "metadata": {},
   "source": [
    "## Make a Request"
   ]
  },
  {
   "cell_type": "markdown",
   "id": "c7c0b1df",
   "metadata": {},
   "source": [
    "First step is to get web page with the `requests` library."
   ]
  },
  {
   "cell_type": "code",
   "execution_count": 1,
   "id": "9fc7bc9f",
   "metadata": {},
   "outputs": [],
   "source": [
    "import requests\n",
    "\n",
    "page = requests.get(\"https://de.wikipedia.org/wiki/The_100_Jazz_Albums_That_Shook_the_World\")"
   ]
  },
  {
   "cell_type": "code",
   "execution_count": 2,
   "id": "cb5e9b4f",
   "metadata": {},
   "outputs": [
    {
     "name": "stdout",
     "output_type": "stream",
     "text": [
      "<Response [200]>\n"
     ]
    }
   ],
   "source": [
    "print(page)"
   ]
  },
  {
   "cell_type": "markdown",
   "id": "20d56b35",
   "metadata": {},
   "source": [
    "## Beautiful Soup"
   ]
  },
  {
   "cell_type": "markdown",
   "id": "9bddca01",
   "metadata": {},
   "source": [
    "Instantiate `Beautiful Soup` on the page."
   ]
  },
  {
   "cell_type": "code",
   "execution_count": 5,
   "id": "499aef42",
   "metadata": {},
   "outputs": [],
   "source": [
    "from bs4 import BeautifulSoup\n",
    "\n",
    "soup = BeautifulSoup(page.content, \"html.parser\")"
   ]
  },
  {
   "cell_type": "markdown",
   "id": "282d6404",
   "metadata": {},
   "source": [
    "#### Table Selector"
   ]
  },
  {
   "cell_type": "code",
   "execution_count": 9,
   "id": "b75088b7",
   "metadata": {},
   "outputs": [],
   "source": [
    "table = soup.table\n",
    "\n",
    "table_body = table.find('tbody')"
   ]
  },
  {
   "cell_type": "markdown",
   "id": "df8bcbc5",
   "metadata": {},
   "source": [
    "#### Get All Columns And Rows"
   ]
  },
  {
   "cell_type": "code",
   "execution_count": 10,
   "id": "c1a022cf",
   "metadata": {},
   "outputs": [],
   "source": [
    "all_columns = table.find_all('th')\n",
    "\n",
    "all_rows = table_body.find_all('tr')"
   ]
  },
  {
   "cell_type": "markdown",
   "id": "5055212b",
   "metadata": {},
   "source": [
    "#### Scape All Rows"
   ]
  },
  {
   "cell_type": "markdown",
   "id": "586e762c",
   "metadata": {},
   "source": [
    "Create an empty dictionnary name `jazz_albums`"
   ]
  },
  {
   "cell_type": "code",
   "execution_count": 11,
   "id": "d323584b",
   "metadata": {},
   "outputs": [],
   "source": [
    "jazz_albums = dict()"
   ]
  },
  {
   "cell_type": "code",
   "execution_count": 12,
   "id": "ce3c7ef8",
   "metadata": {},
   "outputs": [],
   "source": [
    "# Iterate over all rows\n",
    "for row in all_rows:\n",
    "    # Get all culumns from current row\n",
    "    current_row_colums = row.find_all('td')\n",
    "\n",
    "    current_album = list()\n",
    "    # Iterate over all current columns\n",
    "    for column in current_row_colums:\n",
    "        current_album.append(column.get_text().rstrip('\\n'))\n",
    "    # Add current id, name, album, label, and date to the dictionary\n",
    "    if current_album:\n",
    "        id, artist, album, label, date = current_album\n",
    "        jazz_albums[id] = {\"artist_name\": artist, \"album\": album, \"label\": label, \"date\": date}"
   ]
  },
  {
   "cell_type": "code",
   "execution_count": 18,
   "id": "f5d3d4fe",
   "metadata": {},
   "outputs": [
    {
     "name": "stdout",
     "output_type": "stream",
     "text": [
      "1 {'artist_name': 'Miles Davis', 'album': 'Kind of Blue', 'label': 'Columbia', 'date': '1959'}\n",
      "2 {'artist_name': 'John Coltrane', 'album': 'A Love Supreme', 'label': 'Impulse!', 'date': '1964'}\n",
      "3 {'artist_name': 'Ornette Coleman', 'album': 'The Shape of Jazz to Come', 'label': 'Atlantic', 'date': '1959'}\n",
      "4 {'artist_name': 'Bill Evans Trio', 'album': 'Sunday at the Village Vanguard', 'label': 'Riverside', 'date': '1961'}\n",
      "5 {'artist_name': 'Sonny Rollins', 'album': 'Saxophone Colossus', 'label': 'Prestige', 'date': '1956'}\n",
      "6 {'artist_name': 'Thelonious Monk', 'album': 'Brilliant Corners', 'label': 'Riverside', 'date': '1956'}\n",
      "7 {'artist_name': 'Charles Mingus', 'album': 'Mingus Ah Um', 'label': 'Columbia', 'date': '1959'}\n",
      "8 {'artist_name': 'Charlie Parker', 'album': 'Bird: The Complete Original Master Takes. The Savoy Recordings', 'label': 'Savoy Jazz', 'date': '1945–1948'}\n",
      "9 {'artist_name': 'Miles Davis', 'album': 'Bitches Brew', 'label': 'Columbia', 'date': '1969'}\n",
      "10 {'artist_name': 'Keith Jarrett', 'album': 'The Köln Concert', 'label': 'ECM', 'date': '1975'}\n",
      "11 {'artist_name': 'John Coltrane', 'album': 'Giant Steps', 'label': 'Atlantic', 'date': '1959'}\n",
      "12 {'artist_name': 'Eric Dolphy', 'album': 'Out to Lunch!', 'label': 'Blue Note', 'date': '1964'}\n",
      "13 {'artist_name': 'Louis Armstrong', 'album': 'The Complete Hot Fives and Hot Seven Recordings', 'label': 'Columbia', 'date': '1925–1930'}\n",
      "14 {'artist_name': 'Duke Ellington', 'album': 'The Blanton-Webster Band', 'label': 'RCA Bluebird', 'date': '1940–1942'}\n",
      "15 {'artist_name': 'Mahavishnu Orchestra', 'album': 'The Inner Mounting Flame', 'label': 'Columbia', 'date': '1971'}\n",
      "16 {'artist_name': 'Albert Ayler', 'album': 'Spiritual Unity', 'label': 'ESP-Disk', 'date': '1964'}\n",
      "17 {'artist_name': 'Herbie Hancock', 'album': 'Head Hunters', 'label': 'Columbia', 'date': '1973'}\n",
      "18 {'artist_name': 'Dave Brubeck', 'album': 'Time Out', 'label': 'Columbia', 'date': '1959'}\n",
      "19 {'artist_name': 'Ornette Coleman', 'album': 'Free Jazz', 'label': 'Atlantic', 'date': '1960'}\n",
      "20 {'artist_name': 'Weather Report', 'album': 'Heavy Weather', 'label': 'Columbia', 'date': '1976'}\n",
      "21 {'artist_name': 'Ahmad Jamal', 'album': 'At the Pershing: But Not for Me', 'label': 'Argo', 'date': '1958'}\n",
      "22 {'artist_name': 'Jelly Roll Morton', 'album': 'Volume 1', 'label': 'JSP', 'date': '1926–1928'}\n",
      "23 {'artist_name': 'Frank Sinatra', 'album': 'Songs for Swingin’ Lovers', 'label': 'Capitol', 'date': '1955–1956'}\n",
      "24 {'artist_name': 'Wes Montgomery', 'album': 'The Incredible Jazz Guitar of Wes Montgomery', 'label': 'Riverside', 'date': '1960'}\n",
      "25 {'artist_name': 'Modern Jazz Quartet', 'album': 'Fontessa', 'label': 'Atlantic', 'date': '1956'}\n",
      "26 {'artist_name': 'Bud Powell', 'album': 'The Genius of Bud Powell', 'label': 'Clef/Verve', 'date': '1951/52'}\n",
      "27 {'artist_name': 'Cecil Taylor', 'album': 'At the Café Montmartre', 'label': 'Debut', 'date': '1962'}\n",
      "28 {'artist_name': 'Art Blakey', 'album': 'Moanin’', 'label': 'Blue Note', 'date': '1958'}\n",
      "29 {'artist_name': 'Herbie Hancock', 'album': 'Maiden Voyage', 'label': 'Blue Note', 'date': '1965'}\n",
      "30 {'artist_name': 'Stan Getz/João Gilberto', 'album': 'Getz/Gilberto', 'label': 'Verve', 'date': '1965'}\n",
      "31 {'artist_name': 'Pat Metheny', 'album': 'Bright Size Life', 'label': 'ECM', 'date': '1976'}\n",
      "32 {'artist_name': 'Jimmy Smith', 'album': 'A New Sound... A New Star...', 'label': 'Blue Note', 'date': '1956'}\n",
      "33 {'artist_name': 'Jan Garbarek', 'album': 'Afric Pepperbird', 'label': 'ECM', 'date': '1970'}\n",
      "34 {'artist_name': 'Woody Herman', 'album': 'The Thundering Herds', 'label': 'Columbia', 'date': '1945–1947'}\n",
      "35 {'artist_name': 'Duke Ellington', 'album': 'Ellington at Newport', 'label': 'Columbia', 'date': '1956'}\n",
      "36 {'artist_name': 'Ella Fitzgerald', 'album': 'Ella Fitzgerald Sings the Cole Porter Songbook', 'label': 'Verve', 'date': '1956'}\n",
      "37 {'artist_name': 'Charles Mingus', 'album': 'The Black Saint and the Sinner Lady', 'label': 'Impulse!', 'date': '1963'}\n",
      "38 {'artist_name': 'Cannonball Adderley', 'album': 'Somethin’ Else', 'label': 'Blue Note', 'date': '1959'}\n",
      "39 {'artist_name': 'Tony Williams Lifetime', 'album': 'Emergency!', 'label': 'Polydor', 'date': '1969'}\n",
      "40 {'artist_name': 'Billie Holiday', 'album': 'Billie Holiday at JATP', 'label': 'Clef/Verve', 'date': '1945–1946'}\n",
      "41 {'artist_name': 'Chick Corea', 'album': 'Return to Forever', 'label': 'ECM', 'date': '1971'}\n",
      "42 {'artist_name': 'Stan Getz', 'album': 'Focus', 'label': 'Verve', 'date': '1961'}\n",
      "43 {'artist_name': 'Miles Davis', 'album': 'Sketches of Spain', 'label': 'Columbia', 'date': '1960'}\n",
      "44 {'artist_name': 'George Russell', 'album': 'The Jazz Workshop', 'label': 'RCA Victor', 'date': '1956'}\n",
      "45 {'artist_name': 'John Coltrane', 'album': 'Impressions', 'label': 'Impulse!', 'date': '1961–1963'}\n",
      "46 {'artist_name': 'Andrew Hill', 'album': 'Point of Departure', 'label': 'Blue Note', 'date': '1964'}\n",
      "47 {'artist_name': 'Sonny Rollins', 'album': 'The Bridge', 'label': 'RCA Victor', 'date': '1962'}\n",
      "48 {'artist_name': 'Sun Ra', 'album': 'The Heliocentric Worlds of Sun Ra Volume 1', 'label': 'ESP-Disk', 'date': '1965'}\n",
      "49 {'artist_name': 'Dizzy Gillespie', 'album': 'Shaw ’Nuff', 'label': 'Musicraft', 'date': '1945/46'}\n",
      "50 {'artist_name': 'Lennie Tristano', 'album': 'Tristano', 'label': 'Atlantic', 'date': '1955'}\n",
      "51 {'artist_name': 'John Zorn', 'album': 'Naked City', 'label': 'Elektra/Nonesuch', 'date': '1989'}\n",
      "52 {'artist_name': 'John McLaughlin', 'album': 'Extrapolation', 'label': 'Marmalade', 'date': '1969'}\n",
      "53 {'artist_name': 'Pharoah Sanders', 'album': 'Karma', 'label': 'Impulse!', 'date': '1969'}\n",
      "54 {'artist_name': 'Lester Young', 'album': 'Lester Young/Buddy Rich Trio', 'label': 'Verve', 'date': '1946'}\n",
      "55 {'artist_name': 'John Coltrane', 'album': 'Ascension', 'label': 'Impulse!', 'date': '1965'}\n",
      "56 {'artist_name': 'Art Ensemble of Chicago', 'album': 'A Jackson in Your House', 'label': 'BYG Actuel', 'date': '1969'}\n",
      "57 {'artist_name': 'Horace Silver', 'album': 'Song for My Father', 'label': 'Blue Note', 'date': '1963/64'}\n",
      "58 {'artist_name': 'Clifford Brown/Max Roach Quintet', 'album': 'Clifford Brown and Max Roach', 'label': 'EmArcy', 'date': '1954'}\n",
      "59 {'artist_name': 'Coleman Hawkins', 'album': 'Body and Soul', 'label': 'RCA Bluebird', 'date': '1939–1956'}\n",
      "60 {'artist_name': 'Peter Brötzmann Octet', 'album': 'Machine Gun', 'label': 'FMP', 'date': '1969'}\n",
      "61 {'artist_name': 'Miles Davis', 'album': 'Birth of the Cool', 'label': 'Capitol', 'date': '1949/50'}\n",
      "62 {'artist_name': 'Count Basie', 'album': 'The Atomic Mr. Basie', 'label': 'Roulette', 'date': '1957'}\n",
      "63 {'artist_name': 'Archie Shepp', 'album': 'Four for Trane', 'label': 'Impulse!', 'date': '1964'}\n",
      "64 {'artist_name': 'Brad Mehldau', 'album': 'Art of the Trio Vol. 3', 'label': 'Warner', 'date': '1998'}\n",
      "65 {'artist_name': 'Gerry Mulligan', 'album': 'Gerry Mulligan Quartet', 'label': 'Pacific Jazz', 'date': '1952'}\n",
      "66 {'artist_name': 'Gil Evans', 'album': 'The Individualism of Gil Evans', 'label': 'Verve', 'date': '1963/64'}\n",
      "67 {'artist_name': 'John Handy', 'album': 'Live at Monterey Jazz Festival', 'label': 'Columbia', 'date': '1965'}\n",
      "68 {'artist_name': 'Esbjörn Svensson Trio', 'album': 'From Gagarin’s Point of View', 'label': 'ACT', 'date': '1999'}\n",
      "69 {'artist_name': 'Stan Tracey', 'album': 'Jazz Suite Inspired by Dylan Thomas’ Under Milk Wood', 'label': 'EMI/Columbia', 'date': '1965'}\n",
      "70 {'artist_name': 'Dollar Brand (Abdullah Ibrahim)', 'album': 'African Marketplace', 'label': 'Elektra/Musician', 'date': '1980'}\n",
      "71 {'artist_name': 'Wayne Shorter', 'album': 'Speak No Evil', 'label': 'Blue Note', 'date': '1964'}\n",
      "72 {'artist_name': 'Thelonious Monk', 'album': 'Genius of Modern Music – Vol 1', 'label': 'Blue Note', 'date': '1947'}\n",
      "73 {'artist_name': 'Roland Kirk', 'album': 'Rip, Rig and Panic', 'label': 'Limelight', 'date': '1965'}\n",
      "74 {'artist_name': 'Herbie Hancock', 'album': 'The New Standard', 'label': 'Verve', 'date': '1996'}\n",
      "75 {'artist_name': 'Oscar Peterson', 'album': 'Night Train', 'label': 'Verve', 'date': '1962'}\n",
      "76 {'artist_name': 'Charles Lloyd', 'album': 'Dream Weaver', 'label': 'Atlantic', 'date': '1965'}\n",
      "77 {'artist_name': 'Art Tatum', 'album': 'The Genius of Art Tatum No. 1', 'label': 'Clef', 'date': '1953'}\n",
      "78 {'artist_name': 'Betty Carter', 'album': 'The Audience with Betty Carter', 'label': 'Betcar', 'date': '1979'}\n",
      "79 {'artist_name': 'Oliver Nelson', 'album': 'The Blues and the Abstract Truth', 'label': 'Impulse!', 'date': '1961'}\n",
      "80 {'artist_name': 'John Surman', 'album': 'Tales of the Algonquin', 'label': 'Deram', 'date': '1971'}\n",
      "81 {'artist_name': 'Eberhard Weber', 'album': 'The Colours of Chloë', 'label': 'ECM', 'date': '1973'}\n",
      "82 {'artist_name': 'Steve Coleman and the Five Elements', 'album': 'The Tao of Mad Phat: Fringe Zones', 'label': 'RCA/Novus', 'date': '1993'}\n",
      "83 {'artist_name': 'Diana Krall', 'album': 'Love Scenes', 'label': 'Impulse!', 'date': '1997'}\n",
      "84 {'artist_name': 'Anthony Braxton', 'album': 'For Alto', 'label': 'Delmark', 'date': '1969'}\n",
      "85 {'artist_name': 'Krzysztof Komeda', 'album': 'Astigmatic', 'label': 'Nagrania Muza', 'date': '1965'}\n",
      "86 {'artist_name': 'Steps Ahead', 'album': 'Steps Ahead', 'label': 'Elektra/Musician', 'date': '1983'}\n",
      "87 {'artist_name': 'Django Reinhardt', 'album': 'Rétrospective 1934–53', 'label': 'Saga', 'date': '1934–1953'}\n",
      "88 {'artist_name': 'Joe Harriott-John Mayer Double Quintet', 'album': 'Indo-Jazz Suite', 'label': 'EMI Columbia', 'date': '1965'}\n",
      "89 {'artist_name': 'Jackie McLean', 'album': 'Let Freedom Ring', 'label': 'Blue Note', 'date': '1962'}\n",
      "90 {'artist_name': 'Charlie Haden', 'album': 'Liberation Music Orchestra', 'label': 'Impulse! Records', 'date': '1969'}\n",
      "91 {'artist_name': 'Music Improvisation Company', 'album': 'Music Improvisation Company', 'label': 'ECM', 'date': '1970'}\n",
      "92 {'artist_name': 'Sarah Vaughan', 'album': 'Sarah Vaughan with Clifford Brown', 'label': 'EmArcy', 'date': '1954'}\n",
      "93 {'artist_name': 'Jan Johansson', 'album': 'Jazz på svenska', 'label': 'Megafon', 'date': '1962–1964'}\n",
      "94 {'artist_name': 'Cassandra Wilson', 'album': 'Blue Light ’Til Dawn', 'label': 'Blue Note', 'date': '1993'}\n",
      "95 {'artist_name': 'Wynton Marsalis', 'album': 'Black Codes from the Underground', 'label': 'Columbia', 'date': '1985'}\n",
      "96 {'artist_name': 'Medeski, Martin & Wood', 'album': 'Combustication', 'label': 'Blue Note', 'date': '1998'}\n",
      "97 {'artist_name': 'Tomasz Stańko', 'album': 'Soul of Things', 'label': 'ECM', 'date': '2001'}\n",
      "98 {'artist_name': 'Courtney Pine', 'album': 'Journey to the Urge Within', 'label': 'Antilles', 'date': '1986'}\n",
      "99 {'artist_name': 'The Bad Plus', 'album': 'These Are the Vistas', 'label': 'Columbia', 'date': '2005'}\n",
      "100 {'artist_name': 'Polar Bear', 'album': 'Held On the Tips of Fingers', 'label': 'Babel', 'date': '2004–2005'}\n"
     ]
    }
   ],
   "source": [
    "for id, value in jazz_albums.items():\n",
    "    print(id, value)"
   ]
  },
  {
   "cell_type": "code",
   "execution_count": null,
   "id": "76de495b",
   "metadata": {},
   "outputs": [],
   "source": []
  }
 ],
 "metadata": {
  "kernelspec": {
   "display_name": "Python 3",
   "language": "python",
   "name": "python3"
  },
  "language_info": {
   "codemirror_mode": {
    "name": "ipython",
    "version": 3
   },
   "file_extension": ".py",
   "mimetype": "text/x-python",
   "name": "python",
   "nbconvert_exporter": "python",
   "pygments_lexer": "ipython3",
   "version": "3.8.8"
  }
 },
 "nbformat": 4,
 "nbformat_minor": 5
}
