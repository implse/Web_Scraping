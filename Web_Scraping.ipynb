{
 "cells": [
  {
   "cell_type": "markdown",
   "id": "81c9617a",
   "metadata": {},
   "source": [
    "# Web Scraping: The 100 Jazz Albums That Shook The World"
   ]
  },
  {
   "cell_type": "markdown",
   "id": "0f67b876",
   "metadata": {},
   "source": [
    "![title](image/florencia-viadana-F7W1QP62psQ-unsplash.jpg)"
   ]
  },
  {
   "cell_type": "markdown",
   "id": "40864498",
   "metadata": {},
   "source": [
    "## Make a Request"
   ]
  },
  {
   "cell_type": "markdown",
   "id": "c7c0b1df",
   "metadata": {},
   "source": [
    "First step is to make a request to the site to get the raw HTML with the `requests` library using `get`."
   ]
  },
  {
   "cell_type": "code",
   "execution_count": 3,
   "id": "9fc7bc9f",
   "metadata": {},
   "outputs": [],
   "source": [
    "import requests\n",
    "\n",
    "page = requests.get(\"https://de.wikipedia.org/wiki/The_100_Jazz_Albums_That_Shook_the_World\")"
   ]
  },
  {
   "cell_type": "code",
   "execution_count": 4,
   "id": "cb5e9b4f",
   "metadata": {},
   "outputs": [
    {
     "name": "stdout",
     "output_type": "stream",
     "text": [
      "<Response [200]>\n"
     ]
    }
   ],
   "source": [
    "print(page)"
   ]
  },
  {
   "cell_type": "markdown",
   "id": "df02957d",
   "metadata": {},
   "source": [
    "## Beautiful Soup"
   ]
  },
  {
   "cell_type": "markdown",
   "id": "4baf5e1e",
   "metadata": {},
   "source": [
    "Instantiate `Beautiful Soup` passing the `.content` of the `page`. `Use html.parser` as the parser."
   ]
  },
  {
   "cell_type": "code",
   "execution_count": 5,
   "id": "cc3bc4f4",
   "metadata": {},
   "outputs": [],
   "source": [
    "from bs4 import BeautifulSoup\n",
    "\n",
    "soup = BeautifulSoup(page.content, \"html.parser\")"
   ]
  },
  {
   "cell_type": "markdown",
   "id": "f5ba8d9a",
   "metadata": {},
   "source": [
    "#### Table Selector"
   ]
  },
  {
   "cell_type": "markdown",
   "id": "81810296",
   "metadata": {},
   "source": [
    "Use the `soup` object to get the `table`."
   ]
  },
  {
   "cell_type": "code",
   "execution_count": 6,
   "id": "d9dde416",
   "metadata": {},
   "outputs": [],
   "source": [
    "table = soup.table\n",
    "\n",
    "table_body = table.find('tbody')"
   ]
  },
  {
   "cell_type": "markdown",
   "id": "297a1a7b",
   "metadata": {},
   "source": [
    "#### Get All Columns And Rows"
   ]
  },
  {
   "cell_type": "markdown",
   "id": "87db78fd",
   "metadata": {},
   "source": [
    "Get all the `rows` and `columns` inside the `table`."
   ]
  },
  {
   "cell_type": "code",
   "execution_count": 10,
   "id": "56410b03",
   "metadata": {},
   "outputs": [],
   "source": [
    "all_columns = table.find_all('th')\n",
    "\n",
    "all_rows = table_body.find_all('tr')"
   ]
  },
  {
   "cell_type": "markdown",
   "id": "ee757a38",
   "metadata": {},
   "source": [
    "#### Parse All Rows"
   ]
  },
  {
   "cell_type": "markdown",
   "id": "9bf35cb8",
   "metadata": {},
   "source": [
    "Create an empty dictionnary name `jazz_albums`"
   ]
  },
  {
   "cell_type": "code",
   "execution_count": 11,
   "id": "ca314228",
   "metadata": {},
   "outputs": [],
   "source": [
    "jazz_albums = dict()"
   ]
  },
  {
   "cell_type": "code",
   "execution_count": 12,
   "id": "a5412f89",
   "metadata": {},
   "outputs": [],
   "source": [
    "# Iterate over all rows\n",
    "for row in all_rows:\n",
    "    # Get all culumns from current row\n",
    "    current_row_colums = row.find_all('td')\n",
    "\n",
    "    current_album = list()\n",
    "    # Iterate over all current columns\n",
    "    for column in current_row_colums:\n",
    "        current_album.append(column.get_text().rstrip('\\n'))\n",
    "    # Add current id, name, album, label, and date to the dictionary\n",
    "    if current_album:\n",
    "        id, artist, album, label, date = current_album\n",
    "        jazz_albums[id] = {\"artist_name\": artist, \"album\": album, \"label\": label, \"date\": date}"
   ]
  },
  {
   "cell_type": "code",
   "execution_count": 19,
   "id": "5f07d945",
   "metadata": {},
   "outputs": [
    {
     "name": "stdout",
     "output_type": "stream",
     "text": [
      "1 : Miles Davis, Kind of Blue, Columbia, 1959\n",
      "2 : John Coltrane, A Love Supreme, Impulse!, 1964\n",
      "3 : Ornette Coleman, The Shape of Jazz to Come, Atlantic, 1959\n",
      "4 : Bill Evans Trio, Sunday at the Village Vanguard, Riverside, 1961\n",
      "5 : Sonny Rollins, Saxophone Colossus, Prestige, 1956\n",
      "6 : Thelonious Monk, Brilliant Corners, Riverside, 1956\n",
      "7 : Charles Mingus, Mingus Ah Um, Columbia, 1959\n",
      "8 : Charlie Parker, Bird: The Complete Original Master Takes. The Savoy Recordings, Savoy Jazz, 1945–1948\n",
      "9 : Miles Davis, Bitches Brew, Columbia, 1969\n",
      "10 : Keith Jarrett, The Köln Concert, ECM, 1975\n",
      "11 : John Coltrane, Giant Steps, Atlantic, 1959\n",
      "12 : Eric Dolphy, Out to Lunch!, Blue Note, 1964\n",
      "13 : Louis Armstrong, The Complete Hot Fives and Hot Seven Recordings, Columbia, 1925–1930\n",
      "14 : Duke Ellington, The Blanton-Webster Band, RCA Bluebird, 1940–1942\n",
      "15 : Mahavishnu Orchestra, The Inner Mounting Flame, Columbia, 1971\n",
      "16 : Albert Ayler, Spiritual Unity, ESP-Disk, 1964\n",
      "17 : Herbie Hancock, Head Hunters, Columbia, 1973\n",
      "18 : Dave Brubeck, Time Out, Columbia, 1959\n",
      "19 : Ornette Coleman, Free Jazz, Atlantic, 1960\n",
      "20 : Weather Report, Heavy Weather, Columbia, 1976\n",
      "21 : Ahmad Jamal, At the Pershing: But Not for Me, Argo, 1958\n",
      "22 : Jelly Roll Morton, Volume 1, JSP, 1926–1928\n",
      "23 : Frank Sinatra, Songs for Swingin’ Lovers, Capitol, 1955–1956\n",
      "24 : Wes Montgomery, The Incredible Jazz Guitar of Wes Montgomery, Riverside, 1960\n",
      "25 : Modern Jazz Quartet, Fontessa, Atlantic, 1956\n",
      "26 : Bud Powell, The Genius of Bud Powell, Clef/Verve, 1951/52\n",
      "27 : Cecil Taylor, At the Café Montmartre, Debut, 1962\n",
      "28 : Art Blakey, Moanin’, Blue Note, 1958\n",
      "29 : Herbie Hancock, Maiden Voyage, Blue Note, 1965\n",
      "30 : Stan Getz/João Gilberto, Getz/Gilberto, Verve, 1965\n",
      "31 : Pat Metheny, Bright Size Life, ECM, 1976\n",
      "32 : Jimmy Smith, A New Sound... A New Star..., Blue Note, 1956\n",
      "33 : Jan Garbarek, Afric Pepperbird, ECM, 1970\n",
      "34 : Woody Herman, The Thundering Herds, Columbia, 1945–1947\n",
      "35 : Duke Ellington, Ellington at Newport, Columbia, 1956\n",
      "36 : Ella Fitzgerald, Ella Fitzgerald Sings the Cole Porter Songbook, Verve, 1956\n",
      "37 : Charles Mingus, The Black Saint and the Sinner Lady, Impulse!, 1963\n",
      "38 : Cannonball Adderley, Somethin’ Else, Blue Note, 1959\n",
      "39 : Tony Williams Lifetime, Emergency!, Polydor, 1969\n",
      "40 : Billie Holiday, Billie Holiday at JATP, Clef/Verve, 1945–1946\n",
      "41 : Chick Corea, Return to Forever, ECM, 1971\n",
      "42 : Stan Getz, Focus, Verve, 1961\n",
      "43 : Miles Davis, Sketches of Spain, Columbia, 1960\n",
      "44 : George Russell, The Jazz Workshop, RCA Victor, 1956\n",
      "45 : John Coltrane, Impressions, Impulse!, 1961–1963\n",
      "46 : Andrew Hill, Point of Departure, Blue Note, 1964\n",
      "47 : Sonny Rollins, The Bridge, RCA Victor, 1962\n",
      "48 : Sun Ra, The Heliocentric Worlds of Sun Ra Volume 1, ESP-Disk, 1965\n",
      "49 : Dizzy Gillespie, Shaw ’Nuff, Musicraft, 1945/46\n",
      "50 : Lennie Tristano, Tristano, Atlantic, 1955\n",
      "51 : John Zorn, Naked City, Elektra/Nonesuch, 1989\n",
      "52 : John McLaughlin, Extrapolation, Marmalade, 1969\n",
      "53 : Pharoah Sanders, Karma, Impulse!, 1969\n",
      "54 : Lester Young, Lester Young/Buddy Rich Trio, Verve, 1946\n",
      "55 : John Coltrane, Ascension, Impulse!, 1965\n",
      "56 : Art Ensemble of Chicago, A Jackson in Your House, BYG Actuel, 1969\n",
      "57 : Horace Silver, Song for My Father, Blue Note, 1963/64\n",
      "58 : Clifford Brown/Max Roach Quintet, Clifford Brown and Max Roach, EmArcy, 1954\n",
      "59 : Coleman Hawkins, Body and Soul, RCA Bluebird, 1939–1956\n",
      "60 : Peter Brötzmann Octet, Machine Gun, FMP, 1969\n",
      "61 : Miles Davis, Birth of the Cool, Capitol, 1949/50\n",
      "62 : Count Basie, The Atomic Mr. Basie, Roulette, 1957\n",
      "63 : Archie Shepp, Four for Trane, Impulse!, 1964\n",
      "64 : Brad Mehldau, Art of the Trio Vol. 3, Warner, 1998\n",
      "65 : Gerry Mulligan, Gerry Mulligan Quartet, Pacific Jazz, 1952\n",
      "66 : Gil Evans, The Individualism of Gil Evans, Verve, 1963/64\n",
      "67 : John Handy, Live at Monterey Jazz Festival, Columbia, 1965\n",
      "68 : Esbjörn Svensson Trio, From Gagarin’s Point of View, ACT, 1999\n",
      "69 : Stan Tracey, Jazz Suite Inspired by Dylan Thomas’ Under Milk Wood, EMI/Columbia, 1965\n",
      "70 : Dollar Brand (Abdullah Ibrahim), African Marketplace, Elektra/Musician, 1980\n",
      "71 : Wayne Shorter, Speak No Evil, Blue Note, 1964\n",
      "72 : Thelonious Monk, Genius of Modern Music – Vol 1, Blue Note, 1947\n",
      "73 : Roland Kirk, Rip, Rig and Panic, Limelight, 1965\n",
      "74 : Herbie Hancock, The New Standard, Verve, 1996\n",
      "75 : Oscar Peterson, Night Train, Verve, 1962\n",
      "76 : Charles Lloyd, Dream Weaver, Atlantic, 1965\n",
      "77 : Art Tatum, The Genius of Art Tatum No. 1, Clef, 1953\n",
      "78 : Betty Carter, The Audience with Betty Carter, Betcar, 1979\n",
      "79 : Oliver Nelson, The Blues and the Abstract Truth, Impulse!, 1961\n",
      "80 : John Surman, Tales of the Algonquin, Deram, 1971\n",
      "81 : Eberhard Weber, The Colours of Chloë, ECM, 1973\n",
      "82 : Steve Coleman and the Five Elements, The Tao of Mad Phat: Fringe Zones, RCA/Novus, 1993\n",
      "83 : Diana Krall, Love Scenes, Impulse!, 1997\n",
      "84 : Anthony Braxton, For Alto, Delmark, 1969\n",
      "85 : Krzysztof Komeda, Astigmatic, Nagrania Muza, 1965\n",
      "86 : Steps Ahead, Steps Ahead, Elektra/Musician, 1983\n",
      "87 : Django Reinhardt, Rétrospective 1934–53, Saga, 1934–1953\n",
      "88 : Joe Harriott-John Mayer Double Quintet, Indo-Jazz Suite, EMI Columbia, 1965\n",
      "89 : Jackie McLean, Let Freedom Ring, Blue Note, 1962\n",
      "90 : Charlie Haden, Liberation Music Orchestra, Impulse! Records, 1969\n",
      "91 : Music Improvisation Company, Music Improvisation Company, ECM, 1970\n",
      "92 : Sarah Vaughan, Sarah Vaughan with Clifford Brown, EmArcy, 1954\n",
      "93 : Jan Johansson, Jazz på svenska, Megafon, 1962–1964\n",
      "94 : Cassandra Wilson, Blue Light ’Til Dawn, Blue Note, 1993\n",
      "95 : Wynton Marsalis, Black Codes from the Underground, Columbia, 1985\n",
      "96 : Medeski, Martin & Wood, Combustication, Blue Note, 1998\n",
      "97 : Tomasz Stańko, Soul of Things, ECM, 2001\n",
      "98 : Courtney Pine, Journey to the Urge Within, Antilles, 1986\n",
      "99 : The Bad Plus, These Are the Vistas, Columbia, 2005\n",
      "100 : Polar Bear, Held On the Tips of Fingers, Babel, 2004–2005\n"
     ]
    }
   ],
   "source": [
    "for item in jazz_albums.items():\n",
    "    print(f'{item[0]} : {item[1][\"artist_name\"]}, {item[1][\"album\"]}, {item[1][\"label\"]}, {item[1][\"date\"]}')"
   ]
  },
  {
   "cell_type": "code",
   "execution_count": null,
   "id": "b16fd7c1",
   "metadata": {},
   "outputs": [],
   "source": []
  }
 ],
 "metadata": {
  "kernelspec": {
   "display_name": "Python 3",
   "language": "python",
   "name": "python3"
  },
  "language_info": {
   "codemirror_mode": {
    "name": "ipython",
    "version": 3
   },
   "file_extension": ".py",
   "mimetype": "text/x-python",
   "name": "python",
   "nbconvert_exporter": "python",
   "pygments_lexer": "ipython3",
   "version": "3.8.8"
  }
 },
 "nbformat": 4,
 "nbformat_minor": 5
}
